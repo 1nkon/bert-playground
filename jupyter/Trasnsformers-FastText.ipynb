{
 "cells": [
  {
   "cell_type": "code",
   "execution_count": 1,
   "metadata": {},
   "outputs": [],
   "source": [
    "import sys\n",
    "import os\n",
    "nb_dir = os.path.split(os.getcwd())[0]\n",
    "sys.path.append(os.getcwd() + \"/../\")"
   ]
  },
  {
   "cell_type": "code",
   "execution_count": 2,
   "metadata": {},
   "outputs": [],
   "source": [
    "import bertft"
   ]
  },
  {
   "cell_type": "code",
   "execution_count": 3,
   "metadata": {},
   "outputs": [],
   "source": [
    "# Important: auto-reload of bertft module\n",
    "%load_ext autoreload\n",
    "%autoreload 2"
   ]
  },
  {
   "cell_type": "code",
   "execution_count": 48,
   "metadata": {
    "scrolled": true
   },
   "outputs": [
    {
     "name": "stdout",
     "output_type": "stream",
     "text": [
      "Initializing fast text\n",
      "Found existing model, loading.\n"
     ]
    },
    {
     "name": "stderr",
     "output_type": "stream",
     "text": [
      "Warning : `load_model` does not return WordVectorModel or SupervisedModel any more, but a `FastText` object which is very similar.\n"
     ]
    },
    {
     "name": "stdout",
     "output_type": "stream",
     "text": [
      "Loading bert\n",
      "Server started in 61.3924 seconds\n"
     ]
    }
   ],
   "source": [
    "pipeline = bertft.Pipeline(True)"
   ]
  },
  {
   "cell_type": "code",
   "execution_count": 83,
   "metadata": {},
   "outputs": [
    {
     "name": "stdout",
     "output_type": "stream",
     "text": [
      "Input:  what is the local weather forecast?\n",
      "Target word: weather ; sequence:  what is the local <mask> forecast?\n",
      "Bert finished in 0.1292 seconds\n",
      "Unfiltered top:\n",
      "             word   bert normalized ftext ftext-sentence     score\n",
      "0         weather  60.59       1.00  1.00           1.00  2.000000\n",
      "1     temperature  58.36       0.72  0.48           0.96  1.206398\n",
      "2        rainfall  57.97       0.68  0.50           0.96  1.177300\n",
      "3            snow  57.54       0.62  0.54           0.96  1.164787\n",
      "4            rain  56.83       0.53  0.60           0.97  1.130214\n",
      "5           storm  56.11       0.44  0.57           0.97  1.018009\n",
      "6          winter  55.80       0.41  0.60           0.97  1.003941\n",
      "7        forecast  56.20       0.46  0.55           0.96  1.001705\n",
      "8         climate  55.72       0.40  0.55           0.96  0.941995\n",
      "9   precipitation  56.80       0.53  0.40           0.95  0.933833\n",
      "10           wind  55.83       0.41  0.50           0.96  0.914219\n",
      "11        traffic  56.28       0.47  0.44           0.95  0.905496\n",
      "12        tornado  56.04       0.44  0.41           0.95  0.844626\n",
      "13           heat  55.60       0.38  0.46           0.96  0.836681\n",
      "14      hurricane  55.25       0.34  0.45           0.95  0.784432\n",
      "15        heating  55.76       0.40  0.38           0.95  0.777829\n",
      "16          flood  55.42       0.36  0.38           0.95  0.734424\n",
      "17           fire  55.36       0.35  0.36           0.95  0.713103\n",
      "18        driving  55.31       0.34  0.32           0.95  0.662326\n",
      "19         school  55.75       0.40  0.20           0.94  0.598234\n",
      "Filtered top:\n",
      "             word   bert normalized ftext ftext-sentence     score\n",
      "0         weather  60.59       1.00  1.00           1.00  2.000000\n",
      "1     temperature  58.36       0.72  0.48           0.96  1.206398\n",
      "2        rainfall  57.97       0.68  0.50           0.96  1.177300\n",
      "3            snow  57.54       0.62  0.54           0.96  1.164787\n",
      "4            rain  56.83       0.53  0.60           0.97  1.130214\n",
      "5           storm  56.11       0.44  0.57           0.97  1.018009\n",
      "6          winter  55.80       0.41  0.60           0.97  1.003941\n",
      "7        forecast  56.20       0.46  0.55           0.96  1.001705\n",
      "8         climate  55.72       0.40  0.55           0.96  0.941995\n",
      "9   precipitation  56.80       0.53  0.40           0.95  0.933833\n",
      "10           wind  55.83       0.41  0.50           0.96  0.914219\n",
      "11        traffic  56.28       0.47  0.44           0.95  0.905496\n",
      "12        tornado  56.04       0.44  0.41           0.95  0.844626\n",
      "13           heat  55.60       0.38  0.46           0.96  0.836681\n",
      "14      hurricane  55.25       0.34  0.45           0.95  0.784432\n",
      "15        heating  55.76       0.40  0.38           0.95  0.777829\n",
      "16       flooding  55.20       0.33  0.42           0.95  0.754423\n",
      "17          flood  55.42       0.36  0.38           0.95  0.734424\n",
      "18           fire  55.36       0.35  0.36           0.95  0.713103\n",
      "19        driving  55.31       0.34  0.32           0.95  0.662326\n"
     ]
    },
    {
     "data": {
      "image/png": "[encoded data removed]",
      "text/plain": [
       "<Figure size 432x288 with 1 Axes>"
      ]
     },
     "metadata": {
      "needs_background": "light"
     },
     "output_type": "display_data"
    },
    {
     "data": {
      "image/png": "[encoded data removed]",
      "text/plain": [
       "<Figure size 432x288 with 1 Axes>"
      ]
     },
     "metadata": {
      "needs_background": "light"
     },
     "output_type": "display_data"
    },
    {
     "name": "stdout",
     "output_type": "stream",
     "text": [
      "Original word position:  None ; score:  60.59210205078125\n",
      "Finished in 0.1844 seconds\n",
      "===================\n"
     ]
    }
   ],
   "source": [
    "# Example of usage\n",
    "x = pipeline.find_top(\n",
    "    \"what is the local weather forecast?\", # mark target word with #\n",
    "    [4, 4], # or pass words position range (inclusive) in the sentece\n",
    "    k = 20, # Filter best k results (by weighted score)\n",
    "    top_bert = 200, # Number of initial filter of bert output \n",
    "    bert_norm = 200, # Use this position for normalization of bert output \n",
    "    min_ftext = 0.3, # Minimal required score of fast text  \n",
    "    weights = [ # Weights of models scores to calculate total weighted score\n",
    "        1, # bert\n",
    "        1, # fast text\n",
    "    ]\n",
    ")\n"
   ]
  },
  {
   "cell_type": "code",
   "execution_count": 79,
   "metadata": {},
   "outputs": [
    {
     "name": "stdout",
     "output_type": "stream",
     "text": [
      "0.96220136\n",
      "0.92234546\n"
     ]
    }
   ],
   "source": [
    "from sklearn.metrics.pairwise import cosine_similarity\n",
    "s1 = \"what are chances or rain tomorrow?\"\n",
    "s2 = \"what are chances or snow tomorrow?\"\n",
    "s3 = \"what are chances or cat tomorrow?\"\n",
    "print(\n",
    "cosine_similarity(\n",
    "                pipeline.ft.get_sentence_vector(s1).reshape(1, -1),\n",
    "                pipeline.ft.get_sentence_vector(s2).reshape(1, -1)\n",
    "            )[0][0]\n",
    ")\n",
    "print(\n",
    "cosine_similarity(\n",
    "                pipeline.ft.get_sentence_vector(s1).reshape(1, -1),\n",
    "                pipeline.ft.get_sentence_vector(s3).reshape(1, -1)\n",
    "            )[0][0]\n",
    ")"
   ]
  },
  {
   "cell_type": "code",
   "execution_count": null,
   "metadata": {},
   "outputs": [],
   "source": []
  }
 ],
 "metadata": {
  "kernelspec": {
   "display_name": "Python 3",
   "language": "python",
   "name": "python3"
  },
  "language_info": {
   "codemirror_mode": {
    "name": "ipython",
    "version": 3
   },
   "file_extension": ".py",
   "mimetype": "text/x-python",
   "name": "python",
   "nbconvert_exporter": "python",
   "pygments_lexer": "ipython3",
   "version": "3.8.2"
  }
 },
 "nbformat": 4,
 "nbformat_minor": 2
}
