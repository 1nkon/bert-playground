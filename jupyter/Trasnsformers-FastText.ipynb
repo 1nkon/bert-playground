{
 "cells": [
  {
   "cell_type": "code",
   "execution_count": 1,
   "metadata": {},
   "outputs": [],
   "source": [
    "import sys\n",
    "import os\n",
    "nb_dir = os.path.split(os.getcwd())[0]\n",
    "sys.path.append(os.getcwd() + \"/../\")"
   ]
  },
  {
   "cell_type": "code",
   "execution_count": 2,
   "metadata": {},
   "outputs": [],
   "source": [
    "import bertft"
   ]
  },
  {
   "cell_type": "code",
   "execution_count": 3,
   "metadata": {},
   "outputs": [],
   "source": [
    "# Important: auto-reload of bertft module\n",
    "%load_ext autoreload\n",
    "%autoreload 2"
   ]
  },
  {
   "cell_type": "code",
   "execution_count": 4,
   "metadata": {
    "scrolled": true
   },
   "outputs": [
    {
     "name": "stdout",
     "output_type": "stream",
     "text": [
      "Initializing fast text\n",
      "Found existing model, loading.\n"
     ]
    },
    {
     "name": "stderr",
     "output_type": "stream",
     "text": [
      "Warning : `load_model` does not return WordVectorModel or SupervisedModel any more, but a `FastText` object which is very similar.\n"
     ]
    },
    {
     "name": "stdout",
     "output_type": "stream",
     "text": [
      "Loading bert\n",
      "Server started in 15.4336 seconds\n"
     ]
    }
   ],
   "source": [
    "pipeline = bertft.Pipeline(True)"
   ]
  },
  {
   "cell_type": "code",
   "execution_count": 5,
   "metadata": {},
   "outputs": [
    {
     "name": "stdout",
     "output_type": "stream",
     "text": [
      "Input:  what's the local weather# forecast?\n",
      "Unfiltered top:\n",
      "             word   bert normalized ftext score\n",
      "0         weather  60.77       1.00  1.00  2.00\n",
      "1            snow  57.66       0.63  0.54  1.17\n",
      "2            rain  56.78       0.53  0.60  1.12\n",
      "3     temperature  57.65       0.63  0.48  1.11\n",
      "4        rainfall  56.91       0.54  0.50  1.04\n",
      "5           storm  56.07       0.44  0.57  1.02\n",
      "6          winter  55.84       0.41  0.60  1.01\n",
      "7        forecast  56.02       0.44  0.55  0.98\n",
      "8         traffic  56.52       0.50  0.44  0.94\n",
      "9   precipitation  56.41       0.48  0.40  0.89\n",
      "10           heat  55.66       0.39  0.46  0.85\n",
      "11        tornado  55.60       0.39  0.41  0.80\n",
      "12        weekend  55.36       0.36  0.41  0.77\n",
      "13        heating  55.46       0.37  0.38  0.75\n",
      "14           fire  55.55       0.38  0.36  0.74\n",
      "15           news  55.23       0.34  0.39  0.73\n",
      "16        driving  55.65       0.39  0.32  0.71\n",
      "17        fishing  55.46       0.37  0.34  0.71\n",
      "18        eclipse  55.68       0.40  0.26  0.66\n",
      "19         school  56.15       0.45  0.20  0.65\n",
      "Filtered top:\n",
      "             word   bert normalized ftext score\n",
      "0         weather  60.77       1.00  1.00  2.00\n",
      "1            snow  57.66       0.63  0.54  1.17\n",
      "2            rain  56.78       0.53  0.60  1.12\n",
      "3     temperature  57.65       0.63  0.48  1.11\n",
      "4        rainfall  56.91       0.54  0.50  1.04\n",
      "5           storm  56.07       0.44  0.57  1.02\n",
      "6          winter  55.84       0.41  0.60  1.01\n",
      "7        forecast  56.02       0.44  0.55  0.98\n",
      "8         traffic  56.52       0.50  0.44  0.94\n",
      "9   precipitation  56.41       0.48  0.40  0.89\n",
      "10        climate  54.95       0.31  0.55  0.86\n",
      "11           heat  55.66       0.39  0.46  0.85\n",
      "12        tornado  55.60       0.39  0.41  0.80\n",
      "13        weekend  55.36       0.36  0.41  0.77\n",
      "14        heating  55.46       0.37  0.38  0.75\n",
      "15           fire  55.55       0.38  0.36  0.74\n",
      "16           news  55.23       0.34  0.39  0.73\n",
      "17        driving  55.65       0.39  0.32  0.71\n",
      "18        fishing  55.46       0.37  0.34  0.71\n",
      "19          water  54.96       0.31  0.40  0.71\n"
     ]
    },
    {
     "data": {
      "image/png": "[encoded data removed]",
      "text/plain": [
       "<Figure size 432x288 with 1 Axes>"
      ]
     },
     "metadata": {
      "needs_background": "light"
     },
     "output_type": "display_data"
    },
    {
     "data": {
      "image/png": "[encoded data removed]",
      "text/plain": [
       "<Figure size 432x288 with 1 Axes>"
      ]
     },
     "metadata": {
      "needs_background": "light"
     },
     "output_type": "display_data"
    },
    {
     "name": "stdout",
     "output_type": "stream",
     "text": [
      "Original word position:  None ; score:  60.76640701293945\n",
      "Finished in 0.1776 seconds\n",
      "===================\n"
     ]
    },
    {
     "data": {
      "text/html": [
       "<div>\n",
       "<style scoped>\n",
       "    .dataframe tbody tr th:only-of-type {\n",
       "        vertical-align: middle;\n",
       "    }\n",
       "\n",
       "    .dataframe tbody tr th {\n",
       "        vertical-align: top;\n",
       "    }\n",
       "\n",
       "    .dataframe thead th {\n",
       "        text-align: right;\n",
       "    }\n",
       "</style>\n",
       "<table border=\"1\" class=\"dataframe\">\n",
       "  <thead>\n",
       "    <tr style=\"text-align: right;\">\n",
       "      <th></th>\n",
       "      <th>word</th>\n",
       "      <th>bert</th>\n",
       "      <th>normalized</th>\n",
       "      <th>ftext</th>\n",
       "      <th>score</th>\n",
       "    </tr>\n",
       "  </thead>\n",
       "  <tbody>\n",
       "    <tr>\n",
       "      <th>0</th>\n",
       "      <td>weather</td>\n",
       "      <td>60.77</td>\n",
       "      <td>1.00</td>\n",
       "      <td>1.00</td>\n",
       "      <td>2.00</td>\n",
       "    </tr>\n",
       "    <tr>\n",
       "      <th>1</th>\n",
       "      <td>snow</td>\n",
       "      <td>57.66</td>\n",
       "      <td>0.63</td>\n",
       "      <td>0.54</td>\n",
       "      <td>1.17</td>\n",
       "    </tr>\n",
       "    <tr>\n",
       "      <th>2</th>\n",
       "      <td>rain</td>\n",
       "      <td>56.78</td>\n",
       "      <td>0.53</td>\n",
       "      <td>0.60</td>\n",
       "      <td>1.12</td>\n",
       "    </tr>\n",
       "    <tr>\n",
       "      <th>3</th>\n",
       "      <td>temperature</td>\n",
       "      <td>57.65</td>\n",
       "      <td>0.63</td>\n",
       "      <td>0.48</td>\n",
       "      <td>1.11</td>\n",
       "    </tr>\n",
       "    <tr>\n",
       "      <th>4</th>\n",
       "      <td>rainfall</td>\n",
       "      <td>56.91</td>\n",
       "      <td>0.54</td>\n",
       "      <td>0.50</td>\n",
       "      <td>1.04</td>\n",
       "    </tr>\n",
       "    <tr>\n",
       "      <th>5</th>\n",
       "      <td>storm</td>\n",
       "      <td>56.07</td>\n",
       "      <td>0.44</td>\n",
       "      <td>0.57</td>\n",
       "      <td>1.02</td>\n",
       "    </tr>\n",
       "    <tr>\n",
       "      <th>6</th>\n",
       "      <td>winter</td>\n",
       "      <td>55.84</td>\n",
       "      <td>0.41</td>\n",
       "      <td>0.60</td>\n",
       "      <td>1.01</td>\n",
       "    </tr>\n",
       "    <tr>\n",
       "      <th>7</th>\n",
       "      <td>forecast</td>\n",
       "      <td>56.02</td>\n",
       "      <td>0.44</td>\n",
       "      <td>0.55</td>\n",
       "      <td>0.98</td>\n",
       "    </tr>\n",
       "    <tr>\n",
       "      <th>8</th>\n",
       "      <td>traffic</td>\n",
       "      <td>56.52</td>\n",
       "      <td>0.50</td>\n",
       "      <td>0.44</td>\n",
       "      <td>0.94</td>\n",
       "    </tr>\n",
       "    <tr>\n",
       "      <th>9</th>\n",
       "      <td>precipitation</td>\n",
       "      <td>56.41</td>\n",
       "      <td>0.48</td>\n",
       "      <td>0.40</td>\n",
       "      <td>0.89</td>\n",
       "    </tr>\n",
       "    <tr>\n",
       "      <th>10</th>\n",
       "      <td>climate</td>\n",
       "      <td>54.95</td>\n",
       "      <td>0.31</td>\n",
       "      <td>0.55</td>\n",
       "      <td>0.86</td>\n",
       "    </tr>\n",
       "    <tr>\n",
       "      <th>11</th>\n",
       "      <td>heat</td>\n",
       "      <td>55.66</td>\n",
       "      <td>0.39</td>\n",
       "      <td>0.46</td>\n",
       "      <td>0.85</td>\n",
       "    </tr>\n",
       "    <tr>\n",
       "      <th>12</th>\n",
       "      <td>tornado</td>\n",
       "      <td>55.60</td>\n",
       "      <td>0.39</td>\n",
       "      <td>0.41</td>\n",
       "      <td>0.80</td>\n",
       "    </tr>\n",
       "    <tr>\n",
       "      <th>13</th>\n",
       "      <td>weekend</td>\n",
       "      <td>55.36</td>\n",
       "      <td>0.36</td>\n",
       "      <td>0.41</td>\n",
       "      <td>0.77</td>\n",
       "    </tr>\n",
       "    <tr>\n",
       "      <th>14</th>\n",
       "      <td>heating</td>\n",
       "      <td>55.46</td>\n",
       "      <td>0.37</td>\n",
       "      <td>0.38</td>\n",
       "      <td>0.75</td>\n",
       "    </tr>\n",
       "    <tr>\n",
       "      <th>15</th>\n",
       "      <td>fire</td>\n",
       "      <td>55.55</td>\n",
       "      <td>0.38</td>\n",
       "      <td>0.36</td>\n",
       "      <td>0.74</td>\n",
       "    </tr>\n",
       "    <tr>\n",
       "      <th>16</th>\n",
       "      <td>news</td>\n",
       "      <td>55.23</td>\n",
       "      <td>0.34</td>\n",
       "      <td>0.39</td>\n",
       "      <td>0.73</td>\n",
       "    </tr>\n",
       "    <tr>\n",
       "      <th>17</th>\n",
       "      <td>driving</td>\n",
       "      <td>55.65</td>\n",
       "      <td>0.39</td>\n",
       "      <td>0.32</td>\n",
       "      <td>0.71</td>\n",
       "    </tr>\n",
       "    <tr>\n",
       "      <th>18</th>\n",
       "      <td>fishing</td>\n",
       "      <td>55.46</td>\n",
       "      <td>0.37</td>\n",
       "      <td>0.34</td>\n",
       "      <td>0.71</td>\n",
       "    </tr>\n",
       "    <tr>\n",
       "      <th>19</th>\n",
       "      <td>water</td>\n",
       "      <td>54.96</td>\n",
       "      <td>0.31</td>\n",
       "      <td>0.40</td>\n",
       "      <td>0.71</td>\n",
       "    </tr>\n",
       "  </tbody>\n",
       "</table>\n",
       "</div>"
      ],
      "text/plain": [
       "             word   bert normalized ftext score\n",
       "0         weather  60.77       1.00  1.00  2.00\n",
       "1            snow  57.66       0.63  0.54  1.17\n",
       "2            rain  56.78       0.53  0.60  1.12\n",
       "3     temperature  57.65       0.63  0.48  1.11\n",
       "4        rainfall  56.91       0.54  0.50  1.04\n",
       "5           storm  56.07       0.44  0.57  1.02\n",
       "6          winter  55.84       0.41  0.60  1.01\n",
       "7        forecast  56.02       0.44  0.55  0.98\n",
       "8         traffic  56.52       0.50  0.44  0.94\n",
       "9   precipitation  56.41       0.48  0.40  0.89\n",
       "10        climate  54.95       0.31  0.55  0.86\n",
       "11           heat  55.66       0.39  0.46  0.85\n",
       "12        tornado  55.60       0.39  0.41  0.80\n",
       "13        weekend  55.36       0.36  0.41  0.77\n",
       "14        heating  55.46       0.37  0.38  0.75\n",
       "15           fire  55.55       0.38  0.36  0.74\n",
       "16           news  55.23       0.34  0.39  0.73\n",
       "17        driving  55.65       0.39  0.32  0.71\n",
       "18        fishing  55.46       0.37  0.34  0.71\n",
       "19          water  54.96       0.31  0.40  0.71"
      ]
     },
     "execution_count": 5,
     "metadata": {},
     "output_type": "execute_result"
    }
   ],
   "source": [
    "# Example of usage\n",
    "pipeline.find_top(\n",
    "    \"what's the local weather# forecast?\", # mark target word with $ \n",
    "    # For wordnet add lexname after question mark (i.e. \"n\" -- noun, \"v\" -- verb, \"a\" -- adjective)\n",
    "    k = 20, # Filter best k results (by weighted score)\n",
    "    top_bert = 200, # Number of initial filter of bert output \n",
    "    bert_norm = 200, # Use this position for normalization of bert output \n",
    "    min_ftext = 0.3, # Minimal required score of fast text  \n",
    "    weights = [ # Weights of models scores to calculate total weighted score\n",
    "        1, # bert\n",
    "        1, # fast text\n",
    "    ]\n",
    ")\n"
   ]
  },
  {
   "cell_type": "code",
   "execution_count": null,
   "metadata": {},
   "outputs": [],
   "source": []
  }
 ],
 "metadata": {
  "kernelspec": {
   "display_name": "Python 3",
   "language": "python",
   "name": "python3"
  },
  "language_info": {
   "codemirror_mode": {
    "name": "ipython",
    "version": 3
   },
   "file_extension": ".py",
   "mimetype": "text/x-python",
   "name": "python",
   "nbconvert_exporter": "python",
   "pygments_lexer": "ipython3",
   "version": "3.8.2"
  }
 },
 "nbformat": 4,
 "nbformat_minor": 2
}
